{
 "cells": [
  {
   "cell_type": "code",
   "execution_count": null,
   "id": "36963484",
   "metadata": {},
   "outputs": [],
   "source": [
    "################################################################################################\n",
    "###\n",
    "### Get the data from Google Drive public folder\n",
    "###\n",
    "################################################################################################\n",
    "\n",
    "def get_sarcasm_test_df():\n",
    "    '''Get the data from the public Google Drive folder and load the test dataset'''\n",
    "\n",
    "    url='https://drive.google.com/file/d/1XVOpt7i8729wIG477eTJeIQ_ehfa20p0/view?usp=sharing'\n",
    "    url='https://drive.google.com/uc?id=' + url.split('/')[-2]\n",
    "    test_df = pd.read_csv(url)\n",
    "    \n",
    "    return test_df\n",
    "    \n",
    "\n",
    "def get_sarcasm_train_df():\n",
    "    '''Get the data from the public Google Drive folder and load the train dataset'''\n",
    "    \n",
    "    url='https://drive.google.com/file/d/1YnLnmoUDnj5ADr--KFLdJr7qsjkQN-GO/view?usp=sharing'\n",
    "    path = 'https://drive.google.com/uc?export=download&id='+url.split('/')[-2]\n",
    "    df_1 = pd.read_csv(path, index_col=None)\n",
    "\n",
    "    url='https://drive.google.com/file/d/1JDvEfYnebI-Cn71kRLF4BP3yM18wNnzV/view?usp=sharing'\n",
    "    path = 'https://drive.google.com/uc?export=download&id='+url.split('/')[-2]\n",
    "    df_2 = pd.read_csv(path, index_col=None)\n",
    "\n",
    "    url='https://drive.google.com/file/d/1SMxrY4VbNSI1t5R9qUZwgcPhWujJ6WyS/view?usp=sharing'\n",
    "    path = 'https://drive.google.com/uc?export=download&id='+url.split('/')[-2]\n",
    "    df_3 = pd.read_csv(path, index_col=None)\n",
    "\n",
    "    url='https://drive.google.com/file/d/1bN4CcWmpikc6mUukU1FoK2HS8yvnlYB3/view?usp=sharing'\n",
    "    path = 'https://drive.google.com/uc?export=download&id='+url.split('/')[-2]\n",
    "    df_4 = pd.read_csv(path, index_col=None)\n",
    "\n",
    "    train_df = df_1.append(df_2).append(df_3).append(df_4).reset_index()\n",
    "    train_df.drop('index', axis=1, inplace=True)\n",
    "    \n",
    "    return train_df\n"
   ]
  }
 ],
 "metadata": {
  "kernelspec": {
   "display_name": "Python 3 (ipykernel)",
   "language": "python",
   "name": "python3"
  },
  "language_info": {
   "codemirror_mode": {
    "name": "ipython",
    "version": 3
   },
   "file_extension": ".py",
   "mimetype": "text/x-python",
   "name": "python",
   "nbconvert_exporter": "python",
   "pygments_lexer": "ipython3",
   "version": "3.9.7"
  }
 },
 "nbformat": 4,
 "nbformat_minor": 5
}
