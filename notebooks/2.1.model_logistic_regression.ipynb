{
 "cells": [
  {
   "cell_type": "markdown",
   "metadata": {},
   "source": [
    "# Text Classification using Logistic Regression\n",
    "\n",
    "\n",
    "## Problem statement¶\n",
    "The goal of this project is to predict whether a comment is sarcastic or not based on 1 million comments scrapped from Reddit - also called sub-reddits. This means, we are facing a binary classification problem that involves incorporating NLP techniques to feed to our ML/DL models.\n",
    "\n",
    "## Goal of this notebook\n",
    "Our goal is to build a model to predict the comment's label (sarcastic or not). In this notebook, we will use logistic regression and TfidfVectorizer - that transforms text to feature vectors that can be used as input to estimator - in order to perform this task. Why using logistic regression? It is fast and relatively uncomplicated, and it’s convenient for you to interpret the results.\n",
    "\n",
    "## Structure of this notebook\n",
    "0. Set-up and data cleansing\n",
    "1. Modelling (4 cases using combinations of comment and parent + with/without cleaning data)\n",
    "- Create datasets and clean data when necessary\n",
    "- Modelling\n",
    "- Evaluation\n",
    "2. Conclusions"
   ]
  },
  {
   "cell_type": "markdown",
   "metadata": {},
   "source": [
    "# 0. Set-up"
   ]
  },
  {
   "cell_type": "code",
   "execution_count": 3,
   "metadata": {},
   "outputs": [
    {
     "name": "stdout",
     "output_type": "stream",
     "text": [
      "ERROR! Session/line number was not unique in database. History logging moved to new session 146\n",
      "Requirement already satisfied: scikit-learn==0.24.2 in /Users/Alvaro_Ager/opt/anaconda3/lib/python3.9/site-packages (from -r requirements_logit.txt (line 1)) (0.24.2)\n",
      "Requirement already satisfied: matplotlib==3.4.3 in /Users/Alvaro_Ager/opt/anaconda3/lib/python3.9/site-packages (from -r requirements_logit.txt (line 2)) (3.4.3)\n",
      "Requirement already satisfied: numpy==1.20.3 in /Users/Alvaro_Ager/opt/anaconda3/lib/python3.9/site-packages (from -r requirements_logit.txt (line 3)) (1.20.3)\n",
      "Requirement already satisfied: pandas==1.3.4 in /Users/Alvaro_Ager/opt/anaconda3/lib/python3.9/site-packages (from -r requirements_logit.txt (line 4)) (1.3.4)\n",
      "Requirement already satisfied: seaborn==0.11.2 in /Users/Alvaro_Ager/opt/anaconda3/lib/python3.9/site-packages (from -r requirements_logit.txt (line 5)) (0.11.2)\n",
      "Requirement already satisfied: threadpoolctl>=2.0.0 in /Users/Alvaro_Ager/opt/anaconda3/lib/python3.9/site-packages (from scikit-learn==0.24.2->-r requirements_logit.txt (line 1)) (2.2.0)\n",
      "Requirement already satisfied: scipy>=0.19.1 in /Users/Alvaro_Ager/opt/anaconda3/lib/python3.9/site-packages (from scikit-learn==0.24.2->-r requirements_logit.txt (line 1)) (1.7.1)\n",
      "Requirement already satisfied: joblib>=0.11 in /Users/Alvaro_Ager/opt/anaconda3/lib/python3.9/site-packages (from scikit-learn==0.24.2->-r requirements_logit.txt (line 1)) (1.1.0)\n",
      "Requirement already satisfied: kiwisolver>=1.0.1 in /Users/Alvaro_Ager/opt/anaconda3/lib/python3.9/site-packages (from matplotlib==3.4.3->-r requirements_logit.txt (line 2)) (1.3.1)\n",
      "Requirement already satisfied: python-dateutil>=2.7 in /Users/Alvaro_Ager/opt/anaconda3/lib/python3.9/site-packages (from matplotlib==3.4.3->-r requirements_logit.txt (line 2)) (2.8.2)\n",
      "Requirement already satisfied: cycler>=0.10 in /Users/Alvaro_Ager/opt/anaconda3/lib/python3.9/site-packages (from matplotlib==3.4.3->-r requirements_logit.txt (line 2)) (0.10.0)\n",
      "Requirement already satisfied: pyparsing>=2.2.1 in /Users/Alvaro_Ager/opt/anaconda3/lib/python3.9/site-packages (from matplotlib==3.4.3->-r requirements_logit.txt (line 2)) (3.0.4)\n",
      "Requirement already satisfied: pillow>=6.2.0 in /Users/Alvaro_Ager/opt/anaconda3/lib/python3.9/site-packages (from matplotlib==3.4.3->-r requirements_logit.txt (line 2)) (8.4.0)\n",
      "Requirement already satisfied: pytz>=2017.3 in /Users/Alvaro_Ager/opt/anaconda3/lib/python3.9/site-packages (from pandas==1.3.4->-r requirements_logit.txt (line 4)) (2021.3)\n",
      "Requirement already satisfied: six in /Users/Alvaro_Ager/opt/anaconda3/lib/python3.9/site-packages (from cycler>=0.10->matplotlib==3.4.3->-r requirements_logit.txt (line 2)) (1.16.0)\n"
     ]
    }
   ],
   "source": [
    "###################################################################################################\n",
    "###\n",
    "### Install all the necessary packages \n",
    "###\n",
    "###################################################################################################\n",
    "\n",
    "!pip install -r requirements_logit.txt"
   ]
  },
  {
   "cell_type": "code",
   "execution_count": 4,
   "metadata": {},
   "outputs": [],
   "source": [
    "###################################################################################################\n",
    "###\n",
    "### Import all the necessary packages and custom functions (from the functions.py file)\n",
    "###\n",
    "###################################################################################################\n",
    "\n",
    "import time\n",
    "import os\n",
    "import numpy as np\n",
    "import pandas as pd\n",
    "import itertools\n",
    "import pickle\n",
    "\n",
    "import seaborn as sns\n",
    "from matplotlib import pyplot as plt\n",
    "\n",
    "from sklearn.feature_extraction.text import TfidfVectorizer\n",
    "from sklearn.feature_extraction.text import TfidfTransformer\n",
    "from sklearn.linear_model import LogisticRegression\n",
    "from sklearn.pipeline import Pipeline\n",
    "from sklearn.model_selection import train_test_split\n",
    "from sklearn.metrics import accuracy_score, confusion_matrix\n",
    "from sklearn.metrics import roc_auc_score\n",
    "from sklearn.metrics import roc_curve\n",
    "from sklearn.metrics import classification_report\n",
    "from sklearn.model_selection import cross_val_score, StratifiedKFold\n",
    "\n",
    "from functions import *"
   ]
  },
  {
   "cell_type": "code",
   "execution_count": 5,
   "metadata": {},
   "outputs": [],
   "source": [
    "###################################################################################################\n",
    "###\n",
    "### Get the data from the Google Drive public folders\n",
    "###\n",
    "###################################################################################################\n",
    "\n",
    "# Load train and test dataframes\n",
    "test_df = get_sarcasm_test_df()\n",
    "train_df = get_sarcasm_train_df()"
   ]
  },
  {
   "cell_type": "markdown",
   "metadata": {},
   "source": [
    "# 1. Modelling"
   ]
  },
  {
   "cell_type": "markdown",
   "metadata": {},
   "source": [
    "## 1.1. Logistic Regression on 'comment' field without data cleaning\n",
    "\n",
    "In this case, we will use 'comment' as the text input field for the model. Moreover, this section describes the process in a detailed way, whilst the following modelling cases using logistic regression are condensed in order not to repeat the descriptions and save time and attention."
   ]
  },
  {
   "cell_type": "code",
   "execution_count": 6,
   "metadata": {},
   "outputs": [
    {
     "data": {
      "text/html": [
       "<div>\n",
       "<style scoped>\n",
       "    .dataframe tbody tr th:only-of-type {\n",
       "        vertical-align: middle;\n",
       "    }\n",
       "\n",
       "    .dataframe tbody tr th {\n",
       "        vertical-align: top;\n",
       "    }\n",
       "\n",
       "    .dataframe thead th {\n",
       "        text-align: right;\n",
       "    }\n",
       "</style>\n",
       "<table border=\"1\" class=\"dataframe\">\n",
       "  <thead>\n",
       "    <tr style=\"text-align: right;\">\n",
       "      <th></th>\n",
       "      <th>id</th>\n",
       "      <th>label</th>\n",
       "      <th>comment</th>\n",
       "    </tr>\n",
       "  </thead>\n",
       "  <tbody>\n",
       "    <tr>\n",
       "      <th>0</th>\n",
       "      <td>1</td>\n",
       "      <td>0</td>\n",
       "      <td>\"\"I like my shortstops how I like my beef... i...</td>\n",
       "    </tr>\n",
       "    <tr>\n",
       "      <th>1</th>\n",
       "      <td>2</td>\n",
       "      <td>1</td>\n",
       "      <td>He works in mysterious ways</td>\n",
       "    </tr>\n",
       "    <tr>\n",
       "      <th>2</th>\n",
       "      <td>3</td>\n",
       "      <td>0</td>\n",
       "      <td>You're right</td>\n",
       "    </tr>\n",
       "    <tr>\n",
       "      <th>3</th>\n",
       "      <td>4</td>\n",
       "      <td>0</td>\n",
       "      <td>Is this amount of meat in the ratio of meat to...</td>\n",
       "    </tr>\n",
       "    <tr>\n",
       "      <th>4</th>\n",
       "      <td>5</td>\n",
       "      <td>0</td>\n",
       "      <td>You can hug and kiss my ass X and O</td>\n",
       "    </tr>\n",
       "  </tbody>\n",
       "</table>\n",
       "</div>"
      ],
      "text/plain": [
       "   id  label                                            comment\n",
       "0   1      0  \"\"I like my shortstops how I like my beef... i...\n",
       "1   2      1                        He works in mysterious ways\n",
       "2   3      0                                       You're right\n",
       "3   4      0  Is this amount of meat in the ratio of meat to...\n",
       "4   5      0                You can hug and kiss my ass X and O"
      ]
     },
     "execution_count": 6,
     "metadata": {},
     "output_type": "execute_result"
    }
   ],
   "source": [
    "###################################################################################################\n",
    "###\n",
    "### Prepare the datasets for the model\n",
    "###\n",
    "###################################################################################################\n",
    "\n",
    "# Initiate\n",
    "start_time = time.time()\n",
    "\n",
    "# Keep only the necessary columns\n",
    "test_df_model = test_df[['id', 'label', 'comment']].dropna()\n",
    "train_df_model = train_df[['id', 'label', 'comment']].dropna()\n",
    "\n",
    "# Set training dataset\n",
    "X_train = train_df_model['comment']\n",
    "Y_train = train_df_model['label']\n",
    "\n",
    "# Set test dataset\n",
    "X_test = test_df_model['comment']\n",
    "Y_test = test_df_model['label']\n",
    "\n",
    "# Show how does the dataframe look like\n",
    "train_df_model.head()"
   ]
  },
  {
   "cell_type": "markdown",
   "metadata": {},
   "source": [
    "### TFIDF(Term Frequency — Inverse Document Frequency)\n",
    "\n",
    "Term Frequency Inverse Document Frequency (TFIDF) analysis is one of the simple and robust methods to understand the context of a text. Term Frequency and Inverse Document Frequency is used to find the related content and important words and phrases in a larger text. Computers cannot understand the meaning of a text, but they can understand numbers. The words can be converted to numbers so that the relationship between them can be understood.\n"
   ]
  },
  {
   "cell_type": "code",
   "execution_count": 7,
   "metadata": {},
   "outputs": [],
   "source": [
    "###################################################################################################\n",
    "###\n",
    "### Set up our text vectorisation and our model\n",
    "###\n",
    "###################################################################################################\n",
    "\n",
    "# Transforming our text fields by quantifying the relevance of string representations. We will\n",
    "#  set up the vectorizer considering unigrams (1,1) and bigrams (2,2) and ignoring terms that \n",
    "#  have a document frequency strictly lower than 2\n",
    "tf_idf = TfidfVectorizer(ngram_range=(1, 2), min_df=2)"
   ]
  },
  {
   "cell_type": "markdown",
   "metadata": {},
   "source": [
    "### Logistic Regression\n",
    "\n",
    "Logistic Regression is an efective algorithm to classify text, widely use in NLP tasks. Moreover, it is quite fast performance-wise, it is very solid and it is easy to interpret"
   ]
  },
  {
   "cell_type": "code",
   "execution_count": 8,
   "metadata": {},
   "outputs": [],
   "source": [
    "# Initiate logistic regression for modelling. For the lbfgs solvers set verbose to any positive \n",
    "#   number for verbosity.\n",
    "logit = LogisticRegression(n_jobs=4, solver='lbfgs', verbose=1, max_iter=1000000)\n",
    "\n",
    "\n",
    "# Apply TF-IDF to our train and test text fields\n",
    "X_train_transformed = tf_idf.fit_transform(X_train)\n",
    "X_test_transformed = tf_idf.transform(X_test)"
   ]
  },
  {
   "cell_type": "code",
   "execution_count": 9,
   "metadata": {},
   "outputs": [
    {
     "name": "stderr",
     "output_type": "stream",
     "text": [
      "[Parallel(n_jobs=4)]: Using backend LokyBackend with 4 concurrent workers.\n"
     ]
    },
    {
     "name": "stdout",
     "output_type": "stream",
     "text": [
      "RUNNING THE L-BFGS-B CODE\n",
      "\n",
      "           * * *\n",
      "\n",
      "Machine precision = 2.220D-16\n",
      " N =       614479     M =           10\n",
      "\n",
      "At X0         0 variables are exactly at the bounds\n",
      "\n",
      "At iterate    0    f=  6.30554D+05    |proj g|=  1.42109D+03\n"
     ]
    },
    {
     "name": "stderr",
     "output_type": "stream",
     "text": [
      " This problem is unconstrained.\n"
     ]
    },
    {
     "name": "stdout",
     "output_type": "stream",
     "text": [
      "\n",
      "At iterate   50    f=  4.77369D+05    |proj g|=  3.16091D+02\n",
      "\n",
      "At iterate  100    f=  4.68645D+05    |proj g|=  2.59817D+02\n",
      "\n",
      "At iterate  150    f=  4.67494D+05    |proj g|=  5.84892D+01\n",
      "\n",
      "At iterate  200    f=  4.67112D+05    |proj g|=  1.93807D+02\n",
      "\n",
      "At iterate  250    f=  4.67027D+05    |proj g|=  3.63836D+01\n",
      "\n",
      "At iterate  300    f=  4.67022D+05    |proj g|=  2.56649D+01\n",
      "\n",
      "           * * *\n",
      "\n",
      "Tit   = total number of iterations\n",
      "Tnf   = total number of function evaluations\n",
      "Tnint = total number of segments explored during Cauchy searches\n",
      "Skip  = number of BFGS updates skipped\n",
      "Nact  = number of active bounds at final generalized Cauchy point\n",
      "Projg = norm of the final projected gradient\n",
      "F     = final function value\n",
      "\n",
      "           * * *\n",
      "\n",
      "   N    Tit     Tnf  Tnint  Skip  Nact     Projg        F\n",
      "*****    339    413      1     0     0   1.859D+01   4.670D+05\n",
      "  F =   467021.33874609205     \n",
      "\n",
      "CONVERGENCE: REL_REDUCTION_OF_F_<=_FACTR*EPSMCH             \n"
     ]
    },
    {
     "name": "stderr",
     "output_type": "stream",
     "text": [
      "[Parallel(n_jobs=4)]: Done   1 out of   1 | elapsed:   57.0s finished\n"
     ]
    }
   ],
   "source": [
    "###################################################################################################\n",
    "###\n",
    "### Train our model and predict over the test dataset\n",
    "###\n",
    "###################################################################################################\n",
    "\n",
    "# Train the train dataset with Logistic Regression\n",
    "logit.fit(X_train_transformed, Y_train)\n",
    "\n",
    "# Predict labels (is the comment sarcastic or not) on the test dataset\n",
    "predictions_values = logit.predict(X_test_transformed)"
   ]
  },
  {
   "cell_type": "markdown",
   "metadata": {},
   "source": [
    "### Evaluating the results of our model"
   ]
  },
  {
   "cell_type": "code",
   "execution_count": 10,
   "metadata": {},
   "outputs": [
    {
     "name": "stdout",
     "output_type": "stream",
     "text": [
      "The logistic regression model predicts correctly 72.72 percent of the Reddit comments\n"
     ]
    },
    {
     "data": {
      "image/png": "[encoded data removed]",
      "text/plain": [
       "<Figure size 360x360 with 2 Axes>"
      ]
     },
     "metadata": {
      "needs_background": "light"
     },
     "output_type": "display_data"
    }
   ],
   "source": [
    "###################################################################################################\n",
    "###\n",
    "### Evaluate the results\n",
    "###\n",
    "################################################################################################### \n",
    "        \n",
    "\n",
    "# Inidicate when it finishes\n",
    "end_time = time.time()\n",
    "\n",
    "# Check the accuracy of the model\n",
    "accuracy_score(Y_test, predictions_values)\n",
    "print(\"The logistic regression model predicts correctly %.2f percent of the Reddit comments\"%(accuracy_score(Y_test, predictions_values)*100))\n",
    "\n",
    "# Plot the confusion matrix\n",
    "plot_confusion_matrix(Y_test, predictions_values, ['genuine','sarcastic'], figsize=(5, 5))"
   ]
  },
  {
   "cell_type": "code",
   "execution_count": 11,
   "metadata": {},
   "outputs": [
    {
     "name": "stdout",
     "output_type": "stream",
     "text": [
      "              precision    recall  f1-score   support\n",
      "\n",
      "           0       0.71      0.76      0.74     50540\n",
      "           1       0.74      0.69      0.72     50536\n",
      "\n",
      "    accuracy                           0.73    101076\n",
      "   macro avg       0.73      0.73      0.73    101076\n",
      "weighted avg       0.73      0.73      0.73    101076\n",
      "\n",
      "Our model predicts slightly worse the sarcastic comments (0.72), but there is not a large deviation\n"
     ]
    }
   ],
   "source": [
    "# Show results on the classification report\n",
    "print(classification_report(Y_test, predictions_values))\n",
    "\n",
    "print(\"Our model predicts slightly worse the sarcastic comments (0.72), but there is not a large deviation\")"
   ]
  },
  {
   "cell_type": "code",
   "execution_count": 12,
   "metadata": {},
   "outputs": [
    {
     "name": "stdout",
     "output_type": "stream",
     "text": [
      "Our model provided an AUC score of 0.73 , meaning, that the model is not optimal, but on an acceptable range\n",
      "The more far left the curve is, the better our model. We can adjust our threshold based on our ROC curve to get results based on model requirements\n"
     ]
    },
    {
     "data": {
      "image/png": "[encoded data removed]",
      "text/plain": [
       "<Figure size 432x288 with 1 Axes>"
      ]
     },
     "metadata": {
      "needs_background": "light"
     },
     "output_type": "display_data"
    }
   ],
   "source": [
    "#In general, an AUC of 0.5 suggests no discrimination (i.e., ability to classify a comment \n",
    "#  with and without knowing the condition), 0.7 to 0.8 is considered acceptable, 0.8 to 0.9 \n",
    "#  is considered excellent and more than 0.9 is considered outstanding\")\n",
    "\n",
    "print(\"Our model provided an AUC score of\", round(roc_auc_score(Y_test, logit.predict(X_test_transformed)),2), \", meaning, that the model is not optimal, but on an acceptable range\")\n",
    "print(\"The more far left the curve is, the better our model. We can adjust our threshold based on our ROC curve to get results based on model requirements\") \n",
    "    \n",
    "# Set up visualization for the ROC curve\n",
    "logit_roc_auc = roc_auc_score(Y_test, logit.predict(X_test_transformed))\n",
    "fpr, tpr, thresholds = roc_curve(Y_test, logit.predict_proba(X_test_transformed)[:,1])\n",
    "plt.figure()\n",
    "plt.plot(fpr, tpr, label='Logistic Regression (area = %0.2f)' % logit_roc_auc)\n",
    "plt.plot([0, 1], [0, 1],'r--')\n",
    "plt.xlim([-0.01, 1.0])\n",
    "plt.ylim([0.0, 1.05])\n",
    "plt.xlabel('False Positive Rate')\n",
    "plt.ylabel('True Positive Rate')\n",
    "plt.title('ROC Curve')\n",
    "plt.legend(loc=\"lower right\")\n",
    "plt.show()"
   ]
  },
  {
   "cell_type": "code",
   "execution_count": 13,
   "metadata": {},
   "outputs": [],
   "source": [
    "###################################################################################################\n",
    "###\n",
    "### Store the results\n",
    "###\n",
    "###################################################################################################\n",
    "\n",
    "# Store the final results from the logistic regression model without cleaning (since it was our best performer)\n",
    "logit_results = pd.DataFrame({'id': test_df_model.id, 'predicted': predictions_values})\n",
    "logit_results.to_csv(\"log_reg_results.csv\")\n",
    "\n",
    "# Store the results for comparison\n",
    "score = round(accuracy_score(Y_test, predictions_values),2)\n",
    "model_name = 'log_reg_comment_only_without_cleaning'\n",
    "\n",
    "# Create a comparison table to append the results\n",
    "comparison_table = pd.DataFrame([[model_name, score, round(end_time - start_time,0)]], columns = ['Model', 'Accuracy', 'Execution_Time_Seconds'])\n"
   ]
  },
  {
   "cell_type": "code",
   "execution_count": 14,
   "metadata": {},
   "outputs": [
    {
     "name": "stdout",
     "output_type": "stream",
     "text": [
      "Our model accuracy is  0.73\n",
      "Some results of our prediction (labels):  [1 0 1 ... 0 0 0]\n"
     ]
    }
   ],
   "source": [
    "###################################################################################################\n",
    "###\n",
    "### Save our trained model to file and load it later in order to make predictions\n",
    "###\n",
    "###################################################################################################\n",
    "\n",
    "\n",
    "# Save the model to disk\n",
    "model_saved = 'logistic_regression_model_sarcasm.sav'\n",
    "pickle.dump(logit, open(model_saved, 'wb'))\n",
    " \n",
    "# Load the model from disk\n",
    "model_saved = 'logistic_regression_model_sarcasm.sav'\n",
    "loaded_log_regression = pickle.load(open(model_saved, 'rb'))\n",
    "\n",
    "# Show accuracy score from our model\n",
    "print(\"Our model accuracy is \", round(loaded_log_regression.score(X_test_transformed, Y_test),2))\n",
    "\n",
    "# Show predictions from loaded our model\n",
    "print(\"Some results of our prediction (labels): \" ,loaded_log_regression.predict(X_test_transformed))"
   ]
  },
  {
   "cell_type": "markdown",
   "metadata": {},
   "source": [
    "## 1.2. Logistic Regression on 'comment' + 'parent_comment' fields without data cleaning\n",
    "\n",
    "In this case, we will use 'comment' and 'parent_comment' as the text input field for the model, in order to understand if this approach provides higher accuracy"
   ]
  },
  {
   "cell_type": "code",
   "execution_count": 12,
   "metadata": {},
   "outputs": [
    {
     "name": "stderr",
     "output_type": "stream",
     "text": [
      "[Parallel(n_jobs=4)]: Using backend LokyBackend with 4 concurrent workers.\n"
     ]
    },
    {
     "name": "stdout",
     "output_type": "stream",
     "text": [
      "RUNNING THE L-BFGS-B CODE\n",
      "\n",
      "           * * *\n",
      "\n",
      "Machine precision = 2.220D-16\n",
      " N =      1768994     M =           10\n",
      "\n",
      "At X0         0 variables are exactly at the bounds\n",
      "\n",
      "At iterate    0    f=  6.30554D+05    |proj g|=  7.73580D+02\n"
     ]
    },
    {
     "name": "stderr",
     "output_type": "stream",
     "text": [
      " This problem is unconstrained.\n"
     ]
    },
    {
     "name": "stdout",
     "output_type": "stream",
     "text": [
      "\n",
      "At iterate   50    f=  4.95498D+05    |proj g|=  3.72044D+02\n",
      "\n",
      "At iterate  100    f=  4.91503D+05    |proj g|=  7.51449D+01\n",
      "\n",
      "At iterate  150    f=  4.91306D+05    |proj g|=  4.63508D+02\n",
      "\n",
      "At iterate  200    f=  4.91231D+05    |proj g|=  1.90695D+02\n",
      "\n",
      "At iterate  250    f=  4.91201D+05    |proj g|=  1.88876D+00\n",
      "\n",
      "           * * *\n",
      "\n",
      "Tit   = total number of iterations\n",
      "Tnf   = total number of function evaluations\n",
      "Tnint = total number of segments explored during Cauchy searches\n",
      "Skip  = number of BFGS updates skipped\n",
      "Nact  = number of active bounds at final generalized Cauchy point\n",
      "Projg = norm of the final projected gradient\n",
      "F     = final function value\n",
      "\n",
      "           * * *\n",
      "\n",
      "   N    Tit     Tnf  Tnint  Skip  Nact     Projg        F\n",
      "*****    264    313      1     0     0   5.462D+00   4.912D+05\n",
      "  F =   491200.78147815133     \n",
      "\n",
      "CONVERGENCE: REL_REDUCTION_OF_F_<=_FACTR*EPSMCH             \n",
      "The logistic regression model predicts correctly 69.11 percent of the Reddit comments\n"
     ]
    },
    {
     "name": "stderr",
     "output_type": "stream",
     "text": [
      "[Parallel(n_jobs=4)]: Done   1 out of   1 | elapsed:  2.0min finished\n"
     ]
    }
   ],
   "source": [
    "###################################################################################################\n",
    "###\n",
    "### Prepare the datasets for the model\n",
    "###\n",
    "###################################################################################################\n",
    "\n",
    "# Initiate\n",
    "start_time = time.time()\n",
    "\n",
    "# Set datasets\n",
    "train_df_model = train_df\n",
    "test_df_model = test_df\n",
    "\n",
    "# Create column with comment and parent comment text together. This will become the field to model over\n",
    "train_df_model['comment_and_parent_comment'] = train_df_model['comment'] + ' ' + train_df_model['parent_comment'] \n",
    "train_df_model = train_df_model[['id', 'label', 'comment_and_parent_comment']].dropna()\n",
    "\n",
    "# Create column with comment and parent comment text together. This will become the field to model over\n",
    "test_df_model['comment_and_parent_comment'] = test_df_model['comment'] + ' ' + test_df_model['parent_comment'] \n",
    "test_df_modelt_df = test_df_model[['id', 'label', 'comment_and_parent_comment']].dropna()\n",
    "\n",
    "# Keep only the necessary columns\n",
    "test_df_model = test_df[['id', 'label', 'comment_and_parent_comment']].dropna()\n",
    "train_df_model = train_df[['id', 'label', 'comment_and_parent_comment']].dropna()\n",
    "\n",
    "# Set training dataset\n",
    "X_train = train_df_model['comment_and_parent_comment']\n",
    "Y_train = train_df_model['label']\n",
    "\n",
    "# # Set test dataset\n",
    "X_test = test_df_model['comment_and_parent_comment']\n",
    "Y_test = test_df_model['label']\n",
    "\n",
    "# Show how does the dataframe look like\n",
    "train_df_model.head()\n",
    "\n",
    "\n",
    "###################################################################################################\n",
    "###\n",
    "### Train our model and predict over the test dataset\n",
    "###\n",
    "###################################################################################################\n",
    "\n",
    "\n",
    "# Initiate logistic regression for modelling\n",
    "logit = LogisticRegression(n_jobs=4, solver='lbfgs', verbose=1, max_iter=1000000)\n",
    "\n",
    "# Apply TF-IDF to our train and test text fields\n",
    "X_train_transformed = tf_idf.fit_transform(X_train)\n",
    "X_test_transformed = tf_idf.transform(X_test)\n",
    "\n",
    "# Train the model\n",
    "logit.fit(X_train_transformed, Y_train)\n",
    "\n",
    "# Predict labels (is the comment sarcastic or not) on the test dataset\n",
    "predictions_values = logit.predict(X_test_transformed)\n",
    "\n",
    "# Inidicate when it finishes\n",
    "end_time = time.time()\n",
    "\n",
    "# Check the accuracy of the model\n",
    "accuracy_score(Y_test, predictions_values)\n",
    "print(\"The logistic regression model predicts correctly %.2f percent of the Reddit comments\"%(accuracy_score(Y_test, predictions_values)*100))\n",
    "\n",
    "\n",
    "###################################################################################################\n",
    "###\n",
    "### Store the results\n",
    "###\n",
    "###################################################################################################\n",
    "\n",
    "# Store the results for comparison\n",
    "score = round(accuracy_score(Y_test, predictions_values),2)\n",
    "model_name = 'log_reg_comment_with_parent_without_cleaning'\n",
    "df_new_comparison = pd.DataFrame([[model_name, score, round(end_time - start_time,0)]], columns = ['Model', 'Accuracy', 'Execution_Time_Seconds'])\n",
    "\n",
    "# Append the results to the final comparison table\n",
    "comparison_table = comparison_table.append(df_new_comparison)"
   ]
  },
  {
   "cell_type": "markdown",
   "metadata": {},
   "source": [
    "## 1.3. Logistic Regression on 'comment' field with data cleaning\n",
    "\n",
    "In this case, we will use 'comment' as the text input field for the model"
   ]
  },
  {
   "cell_type": "code",
   "execution_count": 13,
   "metadata": {},
   "outputs": [
    {
     "name": "stderr",
     "output_type": "stream",
     "text": [
      "[Parallel(n_jobs=4)]: Using backend LokyBackend with 4 concurrent workers.\n"
     ]
    },
    {
     "name": "stdout",
     "output_type": "stream",
     "text": [
      "RUNNING THE L-BFGS-B CODE\n",
      "\n",
      "           * * *\n",
      "\n",
      "Machine precision = 2.220D-16\n",
      " N =       476361     M =           10\n",
      "\n",
      "At X0         0 variables are exactly at the bounds\n",
      "\n",
      "At iterate    0    f=  6.30554D+05    |proj g|=  2.41215D+03\n"
     ]
    },
    {
     "name": "stderr",
     "output_type": "stream",
     "text": [
      " This problem is unconstrained.\n"
     ]
    },
    {
     "name": "stdout",
     "output_type": "stream",
     "text": [
      "\n",
      "At iterate   50    f=  4.96390D+05    |proj g|=  7.83736D+01\n",
      "\n",
      "At iterate  100    f=  4.95253D+05    |proj g|=  2.31906D+01\n",
      "\n",
      "At iterate  150    f=  4.95232D+05    |proj g|=  5.25829D+00\n",
      "\n",
      "At iterate  200    f=  4.95230D+05    |proj g|=  9.61505D+00\n",
      "\n",
      "           * * *\n",
      "\n",
      "Tit   = total number of iterations\n",
      "Tnf   = total number of function evaluations\n",
      "Tnint = total number of segments explored during Cauchy searches\n",
      "Skip  = number of BFGS updates skipped\n",
      "Nact  = number of active bounds at final generalized Cauchy point\n",
      "Projg = norm of the final projected gradient\n",
      "F     = final function value\n",
      "\n",
      "           * * *\n",
      "\n",
      "   N    Tit     Tnf  Tnint  Skip  Nact     Projg        F\n",
      "*****    219    261      1     0     0   1.655D+01   4.952D+05\n",
      "  F =   495229.24655982602     \n",
      "\n",
      "CONVERGENCE: REL_REDUCTION_OF_F_<=_FACTR*EPSMCH             \n",
      "The logistic regression model predicts correctly 69.80 percent of the Reddit comments\n"
     ]
    },
    {
     "name": "stderr",
     "output_type": "stream",
     "text": [
      "[Parallel(n_jobs=4)]: Done   1 out of   1 | elapsed:   31.1s finished\n"
     ]
    }
   ],
   "source": [
    "###################################################################################################\n",
    "###\n",
    "### Prepare the datasets for the model\n",
    "###\n",
    "###################################################################################################\n",
    "\n",
    "# Initiate\n",
    "start_time = time.time()\n",
    "\n",
    "# Keep only the necessary columns\n",
    "test_df_model = test_df[['id', 'label', 'comment']].dropna()\n",
    "train_df_model = train_df[['id', 'label', 'comment']].dropna()\n",
    "\n",
    "# Set training dataset\n",
    "X_train = train_df_model['comment']\n",
    "Y_train = train_df_model['label']\n",
    "\n",
    "# Set test dataset\n",
    "X_test = test_df_model['comment']\n",
    "Y_test = test_df_model['label']\n",
    "\n",
    "# Apply cleaning functions (functions.py) to our text data\n",
    "test_df_model['comment'] =  test_df_model['comment'].apply(replace_contractions).apply(basic_cleaning).apply(remove_stopwords)\n",
    "train_df_model['comment'] =  train_df_model['comment'].apply(replace_contractions).apply(basic_cleaning).apply(remove_stopwords)\n",
    "\n",
    "# Show how does the dataframe look like\n",
    "train_df_model.head()\n",
    "\n",
    "\n",
    "###################################################################################################\n",
    "###\n",
    "### Train our model and predict over the test dataset\n",
    "###\n",
    "###################################################################################################\n",
    "\n",
    "\n",
    "# Initiate logistic regression for modelling\n",
    "logit = LogisticRegression(n_jobs=4, solver='lbfgs', verbose=1, max_iter=1000000)\n",
    "\n",
    "# Apply TF-IDF to our train and test text fields\n",
    "X_train_transformed = tf_idf.fit_transform(X_train)\n",
    "X_test_transformed = tf_idf.transform(X_test)\n",
    "\n",
    "# Train the model\n",
    "logit.fit(X_train_transformed, Y_train)\n",
    "\n",
    "# Predict labels (is the comment sarcastic or not) on the test dataset\n",
    "predictions_values = logit.predict(X_test_transformed)\n",
    "\n",
    "# Inidicate when it finishes\n",
    "end_time = time.time()\n",
    "\n",
    "# Check the accuracy of the model\n",
    "accuracy_score(Y_test, predictions_values)\n",
    "print(\"The logistic regression model predicts correctly %.2f percent of the Reddit comments\"%(accuracy_score(Y_test, predictions_values)*100))\n",
    "\n",
    "\n",
    "###################################################################################################\n",
    "###\n",
    "### Store the results\n",
    "###\n",
    "###################################################################################################\n",
    "\n",
    "# Store the results for comparison\n",
    "score = round(accuracy_score(Y_test, predictions_values),2)\n",
    "model_name = 'log_reg_comment_only_with_cleaning'\n",
    "df_new_comparison = pd.DataFrame([[model_name, score, round(end_time - start_time,0)]], columns = ['Model', 'Accuracy', 'Execution_Time_Seconds'])\n",
    "\n",
    "# Append the results to the final comparison table\n",
    "comparison_table = comparison_table.append(df_new_comparison)"
   ]
  },
  {
   "cell_type": "markdown",
   "metadata": {},
   "source": [
    "## 1.4. Logistic Regression on 'comment' + 'parent_comment' fields with data cleaning\n",
    "\n",
    "In this case, we will use 'comment' and 'parent_comment' as the text input field for the model, in order to understand if this approach provides higher accuracy"
   ]
  },
  {
   "cell_type": "code",
   "execution_count": 14,
   "metadata": {},
   "outputs": [
    {
     "name": "stderr",
     "output_type": "stream",
     "text": [
      "[Parallel(n_jobs=4)]: Using backend LokyBackend with 4 concurrent workers.\n"
     ]
    },
    {
     "name": "stdout",
     "output_type": "stream",
     "text": [
      "RUNNING THE L-BFGS-B CODE\n",
      "\n",
      "           * * *\n",
      "\n",
      "Machine precision = 2.220D-16\n",
      " N =      1745429     M =           10\n",
      "\n",
      "At X0         0 variables are exactly at the bounds\n",
      "\n",
      "At iterate    0    f=  6.30554D+05    |proj g|=  9.17238D+02\n"
     ]
    },
    {
     "name": "stderr",
     "output_type": "stream",
     "text": [
      " This problem is unconstrained.\n"
     ]
    },
    {
     "name": "stdout",
     "output_type": "stream",
     "text": [
      "\n",
      "At iterate   50    f=  5.06450D+05    |proj g|=  1.67644D+02\n",
      "\n",
      "At iterate  100    f=  5.04682D+05    |proj g|=  8.98742D+00\n",
      "\n",
      "At iterate  150    f=  5.04634D+05    |proj g|=  9.75542D+00\n",
      "\n",
      "           * * *\n",
      "\n",
      "Tit   = total number of iterations\n",
      "Tnf   = total number of function evaluations\n",
      "Tnint = total number of segments explored during Cauchy searches\n",
      "Skip  = number of BFGS updates skipped\n",
      "Nact  = number of active bounds at final generalized Cauchy point\n",
      "Projg = norm of the final projected gradient\n",
      "F     = final function value\n",
      "\n",
      "           * * *\n",
      "\n",
      "   N    Tit     Tnf  Tnint  Skip  Nact     Projg        F\n",
      "*****    184    226      1     0     0   8.531D+00   5.046D+05\n",
      "  F =   504632.21591279254     \n",
      "\n",
      "CONVERGENCE: REL_REDUCTION_OF_F_<=_FACTR*EPSMCH             \n",
      "The logistic regression model predicts correctly 67.01 percent of the Reddit comments\n"
     ]
    },
    {
     "name": "stderr",
     "output_type": "stream",
     "text": [
      "[Parallel(n_jobs=4)]: Done   1 out of   1 | elapsed:  1.1min finished\n"
     ]
    }
   ],
   "source": [
    "###################################################################################################\n",
    "###\n",
    "### Prepare the datasets for the model\n",
    "###\n",
    "###################################################################################################\n",
    "\n",
    "# Initiate\n",
    "start_time = time.time()\n",
    "\n",
    "# Set datasets\n",
    "train_df_model = train_df\n",
    "test_df_model = test_df\n",
    "\n",
    "# Create column with comment and parent comment text together. This will become the field to model over\n",
    "train_df_model['comment_and_parent_comment'] = train_df_model['comment'] + ' ' + train_df_model['parent_comment'] \n",
    "train_df_model = train_df_model[['id', 'label', 'comment_and_parent_comment']].dropna()\n",
    "\n",
    "# Create column with comment and parent comment text together. This will become the field to model over\n",
    "test_df_model['comment_and_parent_comment'] = test_df_model['comment'] + ' ' + test_df_model['parent_comment'] \n",
    "test_df_modelt_df = test_df_model[['id', 'label', 'comment_and_parent_comment']].dropna()\n",
    "\n",
    "# Keep only the necessary columns\n",
    "test_df_model = test_df[['id', 'label', 'comment_and_parent_comment']].dropna()\n",
    "train_df_model = train_df[['id', 'label', 'comment_and_parent_comment']].dropna()\n",
    "\n",
    "# Apply cleaning functions (functions.py) to our text data\n",
    "test_df_model['comment_and_parent_comment'] =  test_df_model['comment_and_parent_comment'].apply(replace_contractions).apply(basic_cleaning).apply(remove_stopwords)\n",
    "train_df_model['comment_and_parent_comment'] =  train_df_model['comment_and_parent_comment'].apply(replace_contractions).apply(basic_cleaning).apply(remove_stopwords)\n",
    "\n",
    "# Set training dataset\n",
    "X_train = train_df_model['comment_and_parent_comment']\n",
    "Y_train = train_df_model['label']\n",
    "\n",
    "# # Set test dataset\n",
    "X_test = test_df_model['comment_and_parent_comment']\n",
    "Y_test = test_df_model['label']\n",
    "\n",
    "# Show how does the dataframe look like\n",
    "train_df_model.head()\n",
    "\n",
    "\n",
    "###################################################################################################\n",
    "###\n",
    "### Train our model and predict over the test dataset\n",
    "###\n",
    "###################################################################################################\n",
    "\n",
    "\n",
    "# Initiate logistic regression for modelling\n",
    "logit = LogisticRegression(n_jobs=4, solver='lbfgs', verbose=1, max_iter=1000000)\n",
    "\n",
    "# Apply TF-IDF to our train and test text fields\n",
    "X_train_transformed = tf_idf.fit_transform(X_train)\n",
    "X_test_transformed = tf_idf.transform(X_test)\n",
    "\n",
    "# Train the model\n",
    "logit.fit(X_train_transformed, Y_train)\n",
    "\n",
    "# Predict labels (is the comment sarcastic or not) on the test dataset\n",
    "predictions_values = logit.predict(X_test_transformed)\n",
    "\n",
    "# Inidicate when it finishes\n",
    "end_time = time.time()\n",
    "\n",
    "# Check the accuracy of the model\n",
    "accuracy_score(Y_test, predictions_values)\n",
    "print(\"The logistic regression model predicts correctly %.2f percent of the Reddit comments\"%(accuracy_score(Y_test, predictions_values)*100))\n",
    "\n",
    "\n",
    "###################################################################################################\n",
    "###\n",
    "### Store the results\n",
    "###\n",
    "###################################################################################################\n",
    "\n",
    "# Store the results for comparison\n",
    "score = round(accuracy_score(Y_test, predictions_values),2)\n",
    "model_name = 'log_reg_comment_with_parent_with_cleaning'\n",
    "df_new_comparison = pd.DataFrame([[model_name, score, round(end_time - start_time,0)]], columns = ['Model', 'Accuracy', 'Execution_Time_Seconds'])\n",
    "\n",
    "# Append the results to the final comparison table\n",
    "comparison_table = comparison_table.append(df_new_comparison)"
   ]
  },
  {
   "cell_type": "code",
   "execution_count": 15,
   "metadata": {},
   "outputs": [
    {
     "name": "stdout",
     "output_type": "stream",
     "text": [
      "                                          Model  Accuracy  \\\n",
      "0         log_reg_comment_only_without_cleaning      0.73   \n",
      "0  log_reg_comment_with_parent_without_cleaning      0.69   \n",
      "0            log_reg_comment_only_with_cleaning      0.70   \n",
      "0     log_reg_comment_with_parent_with_cleaning      0.67   \n",
      "\n",
      "   Execution_Time_Seconds  \n",
      "0                    74.0  \n",
      "0                   182.0  \n",
      "0                   893.0  \n",
      "0                   978.0  \n"
     ]
    }
   ],
   "source": [
    "###################################################################################################\n",
    "###\n",
    "### Save the final results\n",
    "###\n",
    "###################################################################################################\n",
    "\n",
    "\n",
    "# Print the results\n",
    "print(comparison_table)\n",
    "\n",
    "# Save the results to csv - we will compare later on with the rest of the models' outputs\n",
    "comparison_table.to_csv(\"comparison_table_log_reg.csv\")"
   ]
  }
 ],
 "metadata": {
  "kernelspec": {
   "display_name": "Python 3 (ipykernel)",
   "language": "python",
   "name": "python3"
  },
  "language_info": {
   "codemirror_mode": {
    "name": "ipython",
    "version": 3
   },
   "file_extension": ".py",
   "mimetype": "text/x-python",
   "name": "python",
   "nbconvert_exporter": "python",
   "pygments_lexer": "ipython3",
   "version": "3.9.7"
  }
 },
 "nbformat": 4,
 "nbformat_minor": 4
}
